{
 "cells": [
  {
   "cell_type": "code",
   "execution_count": 3,
   "metadata": {},
   "outputs": [
    {
     "name": "stdout",
     "output_type": "stream",
     "text": [
      "The autoreload extension is already loaded. To reload it, use:\n",
      "  %reload_ext autoreload\n"
     ]
    }
   ],
   "source": [
    "import sys\n",
    "import seaborn as sns\n",
    "import os\n",
    "import glob\n",
    "from matplotlib import pyplot as plt\n",
    "import numpy as np\n",
    "import plot as pltfn\n",
    "import network as netfn\n",
    "\n",
    "%load_ext autoreload\n",
    "%autoreload\n",
    "\n",
    "# Define paths\n",
    "#---------------------------------------------------------------------------\n",
    "Fdrop = '/Users/dominicburrows/Dropbox/PhD/analysis/'\n",
    "Fmac = '/Users/dominicburrows/Documents/'\n",
    "F10t = '/Volumes/Dominic 10tb/'\n",
    "Ffig = '/Users/dominicburrows/Dropbox/PhD/figures/'\n",
    "Ftm = '/Volumes/Dominic Time Machine/'"
   ]
  },
  {
   "cell_type": "code",
   "execution_count": 4,
   "metadata": {},
   "outputs": [
    {
     "data": {
      "text/plain": [
       "['PTZ-WILDTYPE-07_2photon_sess-01-6dpf_BLN_run-01_realcoord.npy']"
      ]
     },
     "execution_count": 4,
     "metadata": {},
     "output_type": "execute_result"
    }
   ],
   "source": [
    "# Create coordlist (only contain one fish)\n",
    "#---------------------------------------------------------------------------\n",
    "experiment = 'PTZ-WILDTYPE'\n",
    "os.chdir(Fdrop + 'Project/' + experiment)\n",
    "coordlist = sorted(glob.glob('*07*BLN*realcoord.npy'))\n",
    "coordlist"
   ]
  },
  {
   "cell_type": "code",
   "execution_count": 5,
   "metadata": {},
   "outputs": [
    {
     "data": {
      "text/plain": [
       "array([[152. , 171. ,   0. ],\n",
       "       [188.5, 194. ,   0. ],\n",
       "       [192. , 173. ,   0. ],\n",
       "       ...,\n",
       "       [309.5, 369. ,   9. ],\n",
       "       [323. , 209. ,   9. ],\n",
       "       [ 34. , 106. ,   9. ]])"
      ]
     },
     "execution_count": 5,
     "metadata": {},
     "output_type": "execute_result"
    }
   ],
   "source": [
    "np.load(Fdrop + 'Project/' + experiment + os.sep + coordlist[0])"
   ]
  },
  {
   "cell_type": "code",
   "execution_count": 9,
   "metadata": {},
   "outputs": [
    {
     "name": "stdout",
     "output_type": "stream",
     "text": [
      "Now working on plane 0 of 9.0\n"
     ]
    }
   ],
   "source": [
    "from sklearn.cluster import KMeans\n",
    "\n",
    "mcc = 15\n",
    "cs = np.load(Fdrop + 'Project/' + experiment + os.sep + coordlist[0])\n",
    "    \n",
    "for pl in range(0,1):#np.unique(cs[:,2]):  # third dimension contains the plane index \n",
    "    print('Now working on plane ' + str(pl) + ' of ' + str(np.max(np.unique(cs[:,2]))))\n",
    "    id       = np.where(cs[:,2] == pl)[0]\n",
    "    n_clust  = int(np.max(id.shape) / mcc)\n",
    "    #kmeans   = KMeans(n_clusters=n_clust, random_state=0).fit(cs[id,0:2])             "
   ]
  },
  {
   "cell_type": "code",
   "execution_count": 10,
   "metadata": {},
   "outputs": [
    {
     "data": {
      "text/plain": [
       "49"
      ]
     },
     "execution_count": 10,
     "metadata": {},
     "output_type": "execute_result"
    }
   ],
   "source": [
    "n_clust"
   ]
  },
  {
   "cell_type": "code",
   "execution_count": null,
   "metadata": {},
   "outputs": [],
   "source": []
  },
  {
   "cell_type": "code",
   "execution_count": 5,
   "metadata": {},
   "outputs": [
    {
     "data": {
      "text/plain": [
       "array([ 4, 12, 18, 18, 38,  4, 36, 39, 18, 39, 20, 20, 40, 25, 27, 34, 25,\n",
       "        9, 18,  4,  4, 38,  1, 40, 20, 44, 18, 20, 27, 40,  4, 21, 39,  9,\n",
       "       25, 27, 40, 36, 39, 18, 12, 39, 30, 21, 20,  4, 27, 36, 36, 38, 18,\n",
       "       43, 20, 20, 30,  4, 21, 44, 43, 40, 11, 12, 27, 34, 34, 34, 27, 39,\n",
       "       36,  4,  1, 22, 33, 27, 11, 18,  4, 36,  6, 30, 11,  7, 27, 12, 20,\n",
       "       11, 38,  0, 23, 39, 25, 12, 17, 36,  0, 25, 40,  1,  4, 38, 30, 36,\n",
       "       10,  9, 23,  1, 20,  2, 43, 17, 43, 42,  6, 30, 37, 33, 20, 21, 27,\n",
       "       21,  1, 39, 27, 29,  1, 20, 33, 39, 37,  6,  1, 34, 15, 11, 34, 24,\n",
       "        2, 18, 42, 38, 14, 43, 25, 19, 40, 16, 32, 18, 39,  4, 44, 44, 38,\n",
       "       39, 38, 18, 18,  9, 39, 21, 12, 20, 33, 39,  9,  0, 27, 20, 20, 30,\n",
       "       27, 36, 38,  4,  0, 44,  4, 11, 40, 34, 18,  2, 40, 14, 21, 17, 22,\n",
       "       30,  2, 36, 27, 25, 24, 18, 21,  9,  7,  0, 14, 21, 11,  6, 38, 42,\n",
       "       27, 34,  4, 21,  1, 33,  9, 37, 16, 34, 10, 35, 13, 33,  5, 45, 27,\n",
       "        6,  7, 29, 17, 13, 25, 43, 16, 15, 18, 31, 42, 20, 18, 18,  4, 21,\n",
       "       36, 33, 33, 14, 30,  7, 16, 33, 19,  6, 14,  6, 25,  9, 15,  2, 21,\n",
       "       16,  7, 45, 15, 25, 37,  7, 25, 16,  8,  3, 31, 16,  5, 10, 39, 34,\n",
       "       30, 16, 42,  8, 16,  0,  0, 14, 40,  5, 38,  1, 35, 40, 14,  3, 45,\n",
       "       21, 38, 30, 26, 27, 22, 18, 23, 36, 21, 45,  0,  9, 44, 29,  4, 22,\n",
       "       15, 31, 17, 23, 23,  8, 21,  8,  3,  8, 45,  6, 43, 34, 27, 19, 23,\n",
       "        1,  6, 26, 17, 38, 14, 35, 42, 20, 42,  2, 36, 43, 42,  3, 15, 16,\n",
       "        1,  8, 16, 34,  5, 33, 13,  2,  9,  1, 14, 26,  2, 23,  0, 23, 36,\n",
       "       11, 29, 26,  9, 14, 45,  6, 15, 20, 17, 20, 15, 22, 12,  0,  7,  5,\n",
       "       45, 16, 12, 34, 34, 16, 14, 26,  3, 44, 13, 19, 33,  5, 14, 31, 38,\n",
       "       15, 12,  3, 23,  3,  9,  3, 45,  0, 45, 32, 12,  6,  4,  8, 16,  6,\n",
       "       14, 40, 29, 21, 41, 39, 14,  9, 26, 36, 24, 45, 14, 42,  0, 42, 14,\n",
       "        1, 28, 41, 31, 41,  1, 26, 20, 12, 26, 15,  3, 15,  8, 35, 26, 23,\n",
       "        6,  3, 22, 43,  7, 33, 22, 21, 24, 23, 12, 14,  8, 24, 22,  5, 35,\n",
       "        5, 23, 11,  0, 45, 31, 24, 20], dtype=int32)"
      ]
     },
     "execution_count": 5,
     "metadata": {},
     "output_type": "execute_result"
    }
   ],
   "source": [
    "kmeans.labels_"
   ]
  },
  {
   "cell_type": "markdown",
   "metadata": {},
   "source": [
    "# Functional node parcellation"
   ]
  },
  {
   "cell_type": "markdown",
   "metadata": {},
   "source": [
    "## Spatial clusters"
   ]
  },
  {
   "cell_type": "code",
   "execution_count": null,
   "metadata": {},
   "outputs": [],
   "source": [
    "# Run k-mean clustering on x-y coordinates to get spatially contiguous seed clusters\n",
    "#-----------------------------------------------------------------------------------------\n",
    "Fkmean = fn.kmeans(coordlist, Fdrop, experiment, mcc = 15)"
   ]
  },
  {
   "cell_type": "code",
   "execution_count": null,
   "metadata": {},
   "outputs": [],
   "source": [
    "# Plot an illustrative example\n",
    "#----------------------------------------------------------------------------------------\n",
    "plane = 3\n",
    "\n",
    "# Pull out the data from fish structure\n",
    "#----------------------------------------------------------------------------------------\n",
    "cs = Fish[\"Coordinates\"]                  # 3D array of xyz coordinates\n",
    "ci = Fish[\"Planes\"][plane][\"Index\"]       # Index of plane coordinates in long list\n",
    "ks = Fish[\"Planes\"][plane][\"Klabel\"]      # Label from kmeans clustering\n",
    "\n",
    "# Actual plotting routines\n",
    "#----------------------------------------------------------------------------------------\n",
    "plt.figure(figsize = (7.5,7.5))\n",
    "plt.scatter(cs[ci,0], cs[ci,1], s = 20, c = ks, cmap = 'Set1')"
   ]
  },
  {
   "cell_type": "markdown",
   "metadata": {},
   "source": [
    "# Further parcellate according to functional correlation structure"
   ]
  },
  {
   "cell_type": "code",
   "execution_count": null,
   "metadata": {},
   "outputs": [],
   "source": [
    "# Calculate average traces within clusters\n",
    "#----------------------------------------------------------------------------------------------\n",
    "d      = Fish[\"Data\"]\n",
    "l      = Fish[\"Klabel\"]\n",
    "loc    = Fish[\"Coordinates\"]\n",
    "md,ml,mloc  = fn.fish_net_average(d,l,loc)\n",
    "\n",
    "# Pack averaged data into Fish structure\n",
    "#----------------------------------------------------------------------------------------------\n",
    "Kdata = {\"Label\":ml, \"Data\":md, \"Coordinates\":mloc}\n",
    "Fish.update({\"Kdata\":Kdata})"
   ]
  },
  {
   "cell_type": "code",
   "execution_count": null,
   "metadata": {},
   "outputs": [],
   "source": [
    "# Plot an example traces\n",
    "#----------------------------------------------------------------------------------------------\n",
    "nplt  = 15\n",
    "d     = Fish[\"Kdata\"][\"Data\"][:nplt,:]\n",
    "cm    = plt.get_cmap(\"Paired\")\n",
    "\n",
    "plt.figure(figsize=(15,15))\n",
    "for i in range(nplt):\n",
    "    plt.plot(d[i,:] + 1500*i, c=cm(1))"
   ]
  },
  {
   "cell_type": "markdown",
   "metadata": {},
   "source": [
    "### _Find functionally related clusters_"
   ]
  },
  {
   "cell_type": "code",
   "execution_count": null,
   "metadata": {},
   "outputs": [],
   "source": [
    "# Plot correlation matrix of drift corrected data\n",
    "#---------------------------------------------------------------------------------\n",
    "cor = np.corrcoef(Fish[\"Kdata\"][\"Data\"])\n",
    "plt.rc('figure', figsize=(7.5,7.5))\n",
    "plt.matshow(cor, cmap='RdBu_r')"
   ]
  },
  {
   "cell_type": "code",
   "execution_count": null,
   "metadata": {},
   "outputs": [],
   "source": [
    "# Run K-means clustering on correlation matrix \n",
    "#------------------------------------------------------------------------------------\n",
    "kmeans   = KMeans(n_clusters=100, random_state=0).fit(cor)\n",
    "kl       = kmeans.labels_\n",
    "outplot  = 'corr'       # corr or plane\n",
    "\n",
    "# Plot an example plane\n",
    "#-------------------------------------------------------------------------------------\n",
    "if outplot == 'plane':\n",
    "    plane = 3\n",
    "    cs    = Fish[\"Kdata\"][\"Coordinates\"]\n",
    "    pi    = np.where(cs[:,2] == plane)[0]\n",
    "\n",
    "    plt.figure(figsize=(5,5))\n",
    "    plt.scatter(cs[pi,0], cs[pi,1], c=kl[pi], cmap = 'magma')\n",
    "\n",
    "# Plot correlation matrix ordered by k-means cluster\n",
    "#------------------------------------------------------------------------------------\n",
    "if outplot == 'corr':\n",
    "    klstd   = np.argsort(kl)\n",
    "    scor    = cor[klstd,:]\n",
    "    scor    = scor[:,klstd] \n",
    "    plt.rc('figure', figsize=(7.5,7.5))\n",
    "    plt.matshow(scor,cmap='RdBu_r')"
   ]
  },
  {
   "cell_type": "markdown",
   "metadata": {},
   "source": [
    "### _Split up clusters that are too spatially separate_"
   ]
  },
  {
   "cell_type": "code",
   "execution_count": null,
   "metadata": {},
   "outputs": [],
   "source": [
    "# Split up clusters according to spatial parameters\n",
    "#-----------------------------------------------------------------------\n",
    "cs  = Fish[\"Kdata\"][\"Coordinates\"]\n",
    "ps  = fn.fish_net_divconq(kl,cs)      # Parcel labelling\n",
    "\n",
    "# Unpack to single neuron level\n",
    "#-----------------------------------------------------------------------\n",
    "cs = Fish[\"Coordinates\"]\n",
    "ks = Fish[\"Klabel\"]\n",
    "lb = np.zeros((cs.shape[0],1))\n",
    "for i in range(cs.shape[0]): lb[i] = ps[int(ks[i])]\n",
    "    \n",
    "# Average within label groups\n",
    "#----------------------------------------------------------------------\n",
    "md,ml,mloc = fn.fish_net_average(Fish[\"Filt\"], lb, cs)\n",
    "Ps = ({\"Label\":ps, \"Coordinates\":mloc, \"Data\":md})\n",
    "Fish.update({\"Parcels\":Ps})\n"
   ]
  },
  {
   "cell_type": "code",
   "execution_count": null,
   "metadata": {},
   "outputs": [],
   "source": [
    "# Plot new categorisation\n",
    "#-----------------------------------------------------------------------\n",
    "fine_cs      = Fish[\"Coordinates\"]\n",
    "crse_cs      = Fish[\"Parcels\"][\"Coordinates\"]\n",
    "ks           = Fish[\"Klabel\"]\n",
    "fine_lb      = np.zeros((fine_cs.shape[0],1))\n",
    "crse_lb      = np.zeros((crse_cs.shape[0],1))\n",
    "\n",
    "for i in range(fine_cs.shape[0]): fine_lb[i] = ps[int(ks[i])]\n",
    "for i in range(crse_cs.shape[0]): crse_lb[i] = Fish[\"Parcels\"][\"Label\"][i]\n",
    "    \n",
    "\n",
    "cci    = np.where(Fish[\"Parcels\"][\"Coordinates\"][:,2] == plane) \n",
    "\n",
    "# Actual plotting routines\n",
    "#----------------------------------------------------------------------------------------\n",
    "plane  = 5\n",
    "fci    = Fish[\"Planes\"][plane][\"Index\"]  \n",
    "f, ax1 = plt.subplots(1, 1, sharey=True, figsize=(10,10))\n",
    "ax1.scatter(fine_cs[fci,0], fine_cs[fci,1], s = 20, c = 'gray', cmap = 'Set1')\n",
    "ax1.scatter(crse_cs[:,0], crse_cs[:,1], s = 250, c = crse_lb[:,0], cmap = 'Set1')\n"
   ]
  },
  {
   "cell_type": "code",
   "execution_count": null,
   "metadata": {},
   "outputs": [],
   "source": [
    "# Plot example module traces\n",
    "#---------------------------------------------------------------------------------------\n",
    "plt.figure(figsize=(15,10))\n",
    "plt.matshow(Fish[\"Parcels\"][\"Data\"][:400,:1000], cmap='magma')\n",
    "Fish[\"Parcels\"][\"Data\"][:400,:1000].shape"
   ]
  },
  {
   "cell_type": "code",
   "execution_count": null,
   "metadata": {},
   "outputs": [],
   "source": [
    "# Convert matrix into NetworkX Graph object to run module detection\n",
    "#-------------------------------------------------------------------------------------\n",
    "cor        = np.corrcoef(Fish[\"Parcels\"][\"Data\"]); \n",
    "cor[cor < 0] = 0\n",
    "G          = nx.from_numpy_array(cor)\n",
    "partition  = community.best_partition(G)\n",
    "M          = {\"Label\":np.asarray(partition.values())}\n",
    "Fish.update({\"Modules\":M})"
   ]
  }
 ],
 "metadata": {
  "kernelspec": {
   "display_name": "Python 3",
   "language": "python",
   "name": "python3"
  },
  "language_info": {
   "codemirror_mode": {
    "name": "ipython",
    "version": 3
   },
   "file_extension": ".py",
   "mimetype": "text/x-python",
   "name": "python",
   "nbconvert_exporter": "python",
   "pygments_lexer": "ipython3",
   "version": "3.7.0"
  }
 },
 "nbformat": 4,
 "nbformat_minor": 2
}
